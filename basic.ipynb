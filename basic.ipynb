{
 "cells": [
  {
   "cell_type": "code",
   "execution_count": 10,
   "metadata": {},
   "outputs": [
    {
     "data": {
      "text/plain": [
       "'%.3f'"
      ]
     },
     "execution_count": 10,
     "metadata": {},
     "output_type": "execute_result"
    }
   ],
   "source": [
    "import numpy as np\n",
    "import numpy.random as random\n",
    "import scipy as sp\n",
    "import pandas as pd\n",
    "from pandas import Series, DataFrame\n",
    "\n",
    "import matplotlib.pyplot as plt\n",
    "import matplotlib as mpl\n",
    "import seaborn as sns\n",
    "%precision 3"
   ]
  },
  {
   "cell_type": "code",
   "execution_count": 66,
   "metadata": {},
   "outputs": [
    {
     "name": "stdout",
     "output_type": "stream",
     "text": [
      "型:  int64\n",
      "次元数:  1\n",
      "総素数:  9\n",
      "元データ: [5 6 4 7 9 2 3 8 9]\n",
      "それぞれの要素に掛け算:  [10 12  8 14 18  4  6 16 18]\n",
      "配列×配列:  [ 7  8  6  9 11  4  5 10 11]\n",
      "ソート:  [2 3 4 5 6 7 8 9 9]\n",
      "最大:  9\n",
      "積み上げ:  [ 2  5  9 14 20 27 35 44 53]\n",
      "正規分布、平均０、標準偏差1:  [ 1.764  0.4    0.979  2.241  1.868 -0.977  0.95  -0.151 -0.103  0.411]\n",
      "重複ありの取り出し（復元抽出):  [8 9 9 9 3]\n",
      "重複なしの取り出し(非復元抽出):  [4 6 5 8 9]\n"
     ]
    }
   ],
   "source": [
    "data = np.array([5,6,4,7,9,2,3,8,9])\n",
    "print('型: ', data.dtype)\n",
    "print('次元数: ', data.ndim)\n",
    "print('総素数: ', data.size)\n",
    "print('元データ:', data)\n",
    "print('それぞれの要素に掛け算: ', data * 2)\n",
    "print('配列×配列: ', data + np.array([2,2,2,2,2,2,2,2,2]))\n",
    "data.sort()\n",
    "print('ソート: ', data)\n",
    "print('最大: ', data.max())\n",
    "print('積み上げ: ', data.cumsum())\n",
    "random.seed(0)\n",
    "print('正規分布、平均０、標準偏差1: ', random.randn(10))\n",
    "print('重複ありの取り出し（復元抽出): ', random.choice(data, 5))\n",
    "print('重複なしの取り出し(非復元抽出): ', random.choice(data, 5, replace = False))"
   ]
  },
  {
   "cell_type": "code",
   "execution_count": 98,
   "metadata": {
    "scrolled": true
   },
   "outputs": [
    {
     "name": "stdout",
     "output_type": "stream",
     "text": [
      "行列data1: \n",
      " [[0 1 2]\n",
      " [3 4 5]\n",
      " [6 7 8]]\n",
      "行列の一列目:  [0 1 2]\n",
      "行列の一行目:  [0 3 6]\n",
      "行列data2: \n",
      " [[ 9 10 11]\n",
      " [12 13 14]\n",
      " [15 16 17]]\n",
      "行列の掛け算: \n",
      " [[ 42  45  48]\n",
      " [150 162 174]\n",
      " [258 279 300]]\n",
      "全部0の行列、int64の型指定: \n",
      " [[0 0 0]\n",
      " [0 0 0]]\n",
      "全部1の行列、float64の型指定: \n",
      " [[1. 1. 1.]\n",
      " [1. 1. 1.]]\n"
     ]
    }
   ],
   "source": [
    "data1 = np.arange(9).reshape(3, 3)\n",
    "print('行列data1: \\n', data1)\n",
    "print('行列の一列目: ', data1[0, :])\n",
    "print('行列の一行目: ', data1[:, 0])\n",
    "data2 = np.arange(9, 18).reshape(3, 3)\n",
    "print('行列data2: \\n', data2)\n",
    "print('行列の掛け算: \\n', np.dot(data1, data2))\n",
    "print('全部0の行列、int64の型指定: \\n', np.zeros((2, 3), dtype = np.int64))\n",
    "print('全部1の行列、float64の型指定: \\n', np.ones((2, 3), dtype = np.float64))"
   ]
  },
  {
   "cell_type": "code",
   "execution_count": null,
   "metadata": {},
   "outputs": [],
   "source": []
  },
  {
   "cell_type": "code",
   "execution_count": null,
   "metadata": {},
   "outputs": [],
   "source": []
  },
  {
   "cell_type": "code",
   "execution_count": null,
   "metadata": {},
   "outputs": [],
   "source": []
  },
  {
   "cell_type": "code",
   "execution_count": null,
   "metadata": {},
   "outputs": [],
   "source": []
  }
 ],
 "metadata": {
  "kernelspec": {
   "display_name": "Python 3",
   "language": "python",
   "name": "python3"
  },
  "language_info": {
   "codemirror_mode": {
    "name": "ipython",
    "version": 3
   },
   "file_extension": ".py",
   "mimetype": "text/x-python",
   "name": "python",
   "nbconvert_exporter": "python",
   "pygments_lexer": "ipython3",
   "version": "3.7.3"
  }
 },
 "nbformat": 4,
 "nbformat_minor": 2
}
